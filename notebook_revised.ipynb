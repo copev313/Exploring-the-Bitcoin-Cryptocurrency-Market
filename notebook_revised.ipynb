{
  "cells":[
    {
      "cell_type":"markdown",
      "source":[
        "## 1. Bitcoin and Cryptocurrencies: Full dataset, filtering, and reproducibility\n",
        "<p>Since the <a href=\"https:\/\/newfronttest.bitcoin.com\/bitcoin.pdf\">launch of Bitcoin in 2008<\/a>, hundreds of similar projects based on the blockchain technology have emerged. We call these cryptocurrencies (also coins or cryptos in the Internet slang). Some are extremely valuable nowadays, and others may have the potential to become extremely valuable in the future<sup>1<\/sup>. In fact, on the 6th of December of 2017, Bitcoin has a <a href=\"https:\/\/en.wikipedia.org\/wiki\/Market_capitalization\">market capitalization<\/a> above $200 billion. <\/p>\n",
        "<p><center>\n",
        "<img src=\"images\/bitcoin.png\" style=\"width:500px\"> <br> \n",
        "<em>The astonishing increase of Bitcoin market capitalization in 2017.<\/em><\/center><\/p>\n",
        "<p>*<sup>1<\/sup> <strong>WARNING<\/strong>: The cryptocurrency market is exceptionally volatile<sup>2<\/sup> and any money you put in might disappear into thin air.  Cryptocurrencies mentioned here <strong>might be scams<\/strong> similar to <a href=\"https:\/\/en.wikipedia.org\/wiki\/Ponzi_scheme\">Ponzi Schemes<\/a> or have many other issues (overvaluation, technical, etc.). <strong>Please do not mistake this for investment advice<\/strong>. *<\/p>\n",
        "<p><em><sup>2<\/sup> <strong>Update on March 2020<\/strong>: Well, it turned out to be volatile indeed :D<\/em><\/p>\n",
        "<p>That said, let's get to business. We will start with a CSV we conveniently downloaded on the 6th of December of 2017 using the coinmarketcap API (NOTE: The public API went private in 2020 and is no longer available) named <code>datasets\/coinmarketcap_06122017.csv<\/code>. <\/p>"
      ],
      "metadata":{
        
      }
    },
    {
      "cell_type":"code",
      "source":[
        "# Importing pandas\n",
        "import pandas as pd\n",
        "\n",
        "# Importing matplotlib and setting aesthetics for plotting later.\n",
        "import matplotlib.pyplot as plt\n",
        "%matplotlib inline\n",
        "%config InlineBackend.figure_format = 'svg' \n",
        "plt.style.use('fivethirtyeight')\n",
        "\n",
        "# Reading datasets\/coinmarketcap_06122017.csv into pandas\n",
        "dec6 = pd.read_csv('datasets\/coinmarketcap_06122017.csv')\n",
        "\n",
        "# Selecting the 'id' and the 'market_cap_usd' columns\n",
        "market_cap_raw = dec6[['id', 'market_cap_usd']]\n",
        "\n",
        "# Counting the number of values\n",
        "print(market_cap_raw.count())"
      ],
      "execution_count":14,
      "outputs":[
        {
          "name":"stdout",
          "text":[
            "id                1326\n",
            "market_cap_usd    1031\n",
            "dtype: int64\n"
          ],
          "output_type":"stream"
        }
      ],
      "metadata":{
        
      }
    },
    {
      "cell_type":"markdown",
      "source":[
        "## 2. Discard the cryptocurrencies without a market capitalization\n",
        "<p>Why do the <code>count()<\/code> for <code>id<\/code> and <code>market_cap_usd<\/code> differ above? It is because some cryptocurrencies listed in coinmarketcap.com have no known market capitalization, this is represented by <code>NaN<\/code> in the data, and <code>NaN<\/code>s are not counted by <code>count()<\/code>. These cryptocurrencies are of little interest to us in this analysis, so they are safe to remove.<\/p>"
      ],
      "metadata":{
        
      }
    },
    {
      "cell_type":"code",
      "source":[
        "# Filtering out rows without a market capitalization\n",
        "cap = market_cap_raw.query(\"market_cap_usd > 0\")\n",
        "\n",
        "# Counting the number of values again\n",
        "print(cap.count())"
      ],
      "execution_count":15,
      "outputs":[
        {
          "name":"stdout",
          "text":[
            "id                1031\n",
            "market_cap_usd    1031\n",
            "dtype: int64\n"
          ],
          "output_type":"stream"
        }
      ],
      "metadata":{
        
      }
    },
    {
      "cell_type":"markdown",
      "source":[
        "## 3. How big is Bitcoin compared with the rest of the cryptocurrencies?\n",
        "<p>At the time of writing, Bitcoin is under serious competition from other projects, but it is still dominant in market capitalization. Let's plot the market capitalization for the top 10 coins as a barplot to better visualize this.<\/p>"
      ],
      "metadata":{
        
      }
    },
    {
      "cell_type":"code",
      "source":[
        "# Declaring these now for later use in the plots\n",
        "TOP_CAP_TITLE = 'Top 10 market capitalization'\n",
        "TOP_CAP_YLABEL = '% of total cap'\n",
        "\n",
        "# Selecting the first 10 rows and setting the index\n",
        "cap10 = cap[:10].set_index('id')\n",
        "\n",
        "# Calculating market_cap_perc\n",
        "cap10 = cap10.assign(market_cap_perc = \n",
        "            lambda y: (y.market_cap_usd \/ cap.market_cap_usd.sum()) * 100)\n",
        "\n",
        "# Plotting the barplot with the title defined above \n",
        "ax = cap10.market_cap_perc.plot.bar(title=TOP_CAP_TITLE)\n",
        "\n",
        "# Annotating the y axis with the label defined above\n",
        "ax.set_ylabel(TOP_CAP_YLABEL);"
      ],
      "execution_count":16,
      "outputs":[
        
      ],
      "metadata":{
        
      }
    },
    {
      "cell_type":"markdown",
      "source":[
        "## 4. Making the plot easier to read and more informative\n",
        "<p>While the plot above is informative enough, it can be improved. Bitcoin is too big, and the other coins are hard to distinguish because of this. Instead of the percentage, let's use a log<sup>10<\/sup> scale of the \"raw\" capitalization. Plus, let's use color to group similar coins and make the plot more informative<sup>1<\/sup>. <\/p>\n",
        "<p>For the colors rationale: bitcoin-cash and bitcoin-gold are forks of the bitcoin <a href=\"https:\/\/en.wikipedia.org\/wiki\/Blockchain\">blockchain<\/a><sup>2<\/sup>. Ethereum and Cardano both offer Turing Complete <a href=\"https:\/\/en.wikipedia.org\/wiki\/Smart_contract\">smart contracts<\/a>. Iota and Ripple are not minable. Dash, Litecoin, and Monero get their own color.<\/p>\n",
        "<p><sup>1<\/sup> <em>This coloring is a simplification. There are more differences and similarities that are not being represented here.<\/em><\/p>\n",
        "<p><sup>2<\/sup> <em>The bitcoin forks are actually <strong>very<\/strong> different, but it is out of scope to talk about them here. Please see the warning above and do your own research.<\/em><\/p>"
      ],
      "metadata":{
        
      }
    },
    {
      "cell_type":"code",
      "source":[
        "# Colors for the bar plot\n",
        "COLORS = ['orange', 'green', 'orange', 'cyan', 'cyan', 'blue', 'silver', 'orange', 'red', 'green']\n",
        "\n",
        "# Plotting market_cap_usd as before but adding the colors and scaling the y-axis  \n",
        "ax = cap10.market_cap_usd.plot.bar(title=TOP_CAP_TITLE, logy=True, color=COLORS)\n",
        "\n",
        "# Annotating the y axis with 'USD'\n",
        "ax.set_ylabel('USD')\n",
        "\n",
        "# Final touch! Removing the xlabel as it is not very informative\n",
        "ax.set_xlabel('');"
      ],
      "execution_count":17,
      "outputs":[
        
      ],
      "metadata":{
        
      }
    },
    {
      "cell_type":"markdown",
      "source":[
        "## 5. What is going on?! Volatility in cryptocurrencies\n",
        "<p>The cryptocurrencies market has been spectacularly volatile since the first exchange opened. This notebook didn't start with a big, bold warning for nothing. Let's explore this volatility a bit more! We will begin by selecting and plotting the 24 hours and 7 days percentage change, which we already have available.<\/p>"
      ],
      "metadata":{
        
      }
    },
    {
      "cell_type":"code",
      "source":[
        "# Selecting the id, percent_change_24h and percent_change_7d columns\n",
        "volatility = dec6[['id', 'percent_change_24h', 'percent_change_7d']]\n",
        "\n",
        "# Setting the index to 'id' and dropping all NaN rows\n",
        "volatility = volatility.set_index('id').dropna()\n",
        "\n",
        "# Sorting the DataFrame by percent_change_24h in ascending order\n",
        "volatility = volatility.sort_values('percent_change_24h')\n",
        "\n",
        "# Checking the first few rows\n",
        "volatility.head()"
      ],
      "execution_count":18,
      "outputs":[
        {
          "data":{
            "text\/html":[
              "<div>\n",
              "<style scoped>\n",
              "    .dataframe tbody tr th:only-of-type {\n",
              "        vertical-align: middle;\n",
              "    }\n",
              "\n",
              "    .dataframe tbody tr th {\n",
              "        vertical-align: top;\n",
              "    }\n",
              "\n",
              "    .dataframe thead th {\n",
              "        text-align: right;\n",
              "    }\n",
              "<\/style>\n",
              "<table border=\"1\" class=\"dataframe\">\n",
              "  <thead>\n",
              "    <tr style=\"text-align: right;\">\n",
              "      <th><\/th>\n",
              "      <th>percent_change_24h<\/th>\n",
              "      <th>percent_change_7d<\/th>\n",
              "    <\/tr>\n",
              "    <tr>\n",
              "      <th>id<\/th>\n",
              "      <th><\/th>\n",
              "      <th><\/th>\n",
              "    <\/tr>\n",
              "  <\/thead>\n",
              "  <tbody>\n",
              "    <tr>\n",
              "      <th>flappycoin<\/th>\n",
              "      <td>-95.85<\/td>\n",
              "      <td>-96.61<\/td>\n",
              "    <\/tr>\n",
              "    <tr>\n",
              "      <th>credence-coin<\/th>\n",
              "      <td>-94.22<\/td>\n",
              "      <td>-95.31<\/td>\n",
              "    <\/tr>\n",
              "    <tr>\n",
              "      <th>coupecoin<\/th>\n",
              "      <td>-93.93<\/td>\n",
              "      <td>-61.24<\/td>\n",
              "    <\/tr>\n",
              "    <tr>\n",
              "      <th>tyrocoin<\/th>\n",
              "      <td>-79.02<\/td>\n",
              "      <td>-87.43<\/td>\n",
              "    <\/tr>\n",
              "    <tr>\n",
              "      <th>petrodollar<\/th>\n",
              "      <td>-76.55<\/td>\n",
              "      <td>542.96<\/td>\n",
              "    <\/tr>\n",
              "  <\/tbody>\n",
              "<\/table>\n",
              "<\/div>"
            ]
          },
          "metadata":{
            
          },
          "output_type":"display_data"
        }
      ],
      "metadata":{
        
      }
    },
    {
      "cell_type":"markdown",
      "source":[
        "## 6. Well, we can already see that things are *a bit* crazy\n",
        "<p>It seems you can lose a lot of money quickly on cryptocurrencies. Let's plot the top 10 biggest gainers and top 10 losers in market capitalization.<\/p>"
      ],
      "metadata":{
        
      }
    },
    {
      "cell_type":"code",
      "source":[
        "#Defining a function with 2 parameters, the series to plot and the title\n",
        "def top10_subplot(volatility_series, title):\n",
        "    # Making the subplot and the figure for two side by side plots\n",
        "    fig, axes = plt.subplots(nrows=1, ncols=2, figsize=(10, 6))\n",
        "    \n",
        "    # Plotting with pandas the barchart for the top 10 losers\n",
        "    ax = volatility_series[:10].plot.bar(color='darkred', ax=axes[0])\n",
        "    \n",
        "    # Setting the figure's main title to the text passed as parameter\n",
        "    fig.suptitle(title)\n",
        "    \n",
        "    # Setting the ylabel to '% change'\n",
        "    ax.set_ylabel('% change')\n",
        "    \n",
        "    # Same as above, but for the top 10 winners\n",
        "    ax = volatility_series[-10:].plot.bar(color='darkblue', ax=axes[1])\n",
        "    \n",
        "    # Returning this for good practice, might use later\n",
        "    return fig, ax\n",
        "\n",
        "DTITLE = \"24 hours top losers and winners\"\n",
        "\n",
        "# Calling the function above with the 24 hours period series and title DTITLE  \n",
        "fig, ax = top10_subplot(volatility.percent_change_24h, DTITLE)"
      ],
      "execution_count":19,
      "outputs":[
        
      ],
      "metadata":{
        
      }
    },
    {
      "cell_type":"markdown",
      "source":[
        "## 7. Ok, those are... interesting. Let's check the weekly Series too.\n",
        "<p>800% daily increase?! Why are we doing this tutorial and not buying random coins?<sup>1<\/sup><\/p>\n",
        "<p>After calming down, let's reuse the function defined above to see what is going weekly instead of daily.<\/p>\n",
        "<p><em><sup>1<\/sup> Please take a moment to understand the implications of the red plots on how much value some cryptocurrencies lose in such short periods of time<\/em><\/p>"
      ],
      "metadata":{
        
      }
    },
    {
      "cell_type":"code",
      "source":[
        "# Sorting in ascending order\n",
        "volatility7d = volatility.sort_values('percent_change_7d')\n",
        "\n",
        "WTITLE = \"Weekly top losers and winners\"\n",
        "\n",
        "# Calling the top10_subplot function\n",
        "fig, ax = top10_subplot(volatility7d.percent_change_7d, WTITLE)"
      ],
      "execution_count":20,
      "outputs":[
        
      ],
      "metadata":{
        
      }
    },
    {
      "cell_type":"markdown",
      "source":[
        "## 8. How small is small?\n",
        "<p>The names of the cryptocurrencies above are quite unknown, and there is a considerable fluctuation between the 1 and 7 days percentage changes. As with stocks, and many other financial products, the smaller the capitalization, the bigger the risk and reward. Smaller cryptocurrencies are less stable projects in general, and therefore even riskier investments than the bigger ones<sup>1<\/sup>. Let's classify our dataset based on Investopedia's capitalization <a href=\"https:\/\/www.investopedia.com\/video\/play\/large-cap\/\">definitions<\/a> for company stocks. <\/p>\n",
        "<p><sup>1<\/sup> <em>Cryptocurrencies are a new asset class, so they are not directly comparable to stocks. Furthermore, there are no limits set in stone for what a \"small\" or \"large\" stock is. Finally, some investors argue that bitcoin is similar to gold, this would make them more comparable to a <a href=\"https:\/\/www.investopedia.com\/terms\/c\/commodity.asp\">commodity<\/a> instead.<\/em><\/p>"
      ],
      "metadata":{
        
      }
    },
    {
      "cell_type":"code",
      "source":[
        "# Selecting everything bigger than 10 billion \n",
        "largecaps = cap.query('market_cap_usd > 10000000000')\n",
        "\n",
        "# Printing out largecaps\n",
        "largecaps"
      ],
      "execution_count":21,
      "outputs":[
        {
          "data":{
            "text\/html":[
              "<div>\n",
              "<style scoped>\n",
              "    .dataframe tbody tr th:only-of-type {\n",
              "        vertical-align: middle;\n",
              "    }\n",
              "\n",
              "    .dataframe tbody tr th {\n",
              "        vertical-align: top;\n",
              "    }\n",
              "\n",
              "    .dataframe thead th {\n",
              "        text-align: right;\n",
              "    }\n",
              "<\/style>\n",
              "<table border=\"1\" class=\"dataframe\">\n",
              "  <thead>\n",
              "    <tr style=\"text-align: right;\">\n",
              "      <th><\/th>\n",
              "      <th>id<\/th>\n",
              "      <th>market_cap_usd<\/th>\n",
              "    <\/tr>\n",
              "  <\/thead>\n",
              "  <tbody>\n",
              "    <tr>\n",
              "      <th>0<\/th>\n",
              "      <td>bitcoin<\/td>\n",
              "      <td>2.130493e+11<\/td>\n",
              "    <\/tr>\n",
              "    <tr>\n",
              "      <th>1<\/th>\n",
              "      <td>ethereum<\/td>\n",
              "      <td>4.352945e+10<\/td>\n",
              "    <\/tr>\n",
              "    <tr>\n",
              "      <th>2<\/th>\n",
              "      <td>bitcoin-cash<\/td>\n",
              "      <td>2.529585e+10<\/td>\n",
              "    <\/tr>\n",
              "    <tr>\n",
              "      <th>3<\/th>\n",
              "      <td>iota<\/td>\n",
              "      <td>1.475225e+10<\/td>\n",
              "    <\/tr>\n",
              "  <\/tbody>\n",
              "<\/table>\n",
              "<\/div>"
            ]
          },
          "metadata":{
            
          },
          "output_type":"display_data"
        }
      ],
      "metadata":{
        
      }
    },
    {
      "cell_type":"markdown",
      "source":[
        "## 9. Most coins are tiny\n",
        "<p>Note that many coins are not comparable to large companies in market cap, so let's divert from the original Investopedia definition by merging categories.<\/p>\n",
        "<p><em>This is all for now. Thanks for completing this project!<\/em><\/p>"
      ],
      "metadata":{
        
      }
    },
    {
      "cell_type":"code",
      "source":[
        "# Making a nice function for counting different marketcaps from the\n",
        "# \"cap\" DataFrame. Returns an int.\n",
        "def capcount(query_string):\n",
        "    return cap.query(query_string).count().id\n",
        "\n",
        "# Labels for the plot\n",
        "LABELS = [\"biggish\", \"micro\", \"nano\"]\n",
        "\n",
        "# Using capcount count the biggish cryptos\n",
        "biggish = capcount(\"market_cap_usd > 300000000\")\n",
        "\n",
        "# Same as above for micro ...\n",
        "micro = capcount(\"market_cap_usd >= 50000000 & market_cap_usd < 300000000\")\n",
        "\n",
        "# ... and for nano\n",
        "nano =  capcount(\"market_cap_usd < 50000000\")\n",
        "\n",
        "# Making a list with the 3 counts\n",
        "values = [biggish, micro, nano]\n",
        "\n",
        "# Plotting them with matplotlib \n",
        "plt.bar(range(len(values)), values, tick_label=LABELS)"
      ],
      "execution_count":22,
      "outputs":[
        {
          "data":{
            "text\/plain":[
              "<BarContainer object of 3 artists>"
            ]
          },
          "metadata":{
            
          },
          "output_type":"display_data"
        }
      ],
      "metadata":{
        
      }
    }
  ],
  "metadata":{
    
  },
  "nbformat":4,
  "nbformat_minor":0
}